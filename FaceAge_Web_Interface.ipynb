{
  "nbformat": 4,
  "nbformat_minor": 0,
  "metadata": {
    "colab": {
      "provenance": []
    },
    "kernelspec": {
      "name": "python3",
      "display_name": "Python 3"
    },
    "language_info": {
      "name": "python"
    }
  },
  "cells": [
    {
      "cell_type": "markdown",
      "source": [
        "# %% [markdown]\n",
        "# # 🚀 FaceAge Web Interface\n",
        "# ### Загрузите фото → Получите возраст лица\n",
        "# ---"
      ],
      "metadata": {
        "id": "cKEg_9ij8lKn"
      }
    },
    {
      "cell_type": "markdown",
      "source": [
        "# %% [markdown]\n",
        "# ## ⚙️ Установка необходимых компонентов"
      ],
      "metadata": {
        "id": "JkwiFHzp8p6n"
      }
    },
    {
      "source": [
        "\n",
        "!pip install -q streamlit pyngrok mtcnn opencv-python pillow numpy tensorflow"
      ],
      "cell_type": "code",
      "metadata": {
        "id": "ukMz9TRV8cch"
      },
      "execution_count": null,
      "outputs": []
    },
    {
      "cell_type": "markdown",
      "source": [
        "# %% [markdown]\n",
        "# ## 📁 Создаем файл приложения\n",
        "%%writefile faceage_app.py"
      ],
      "metadata": {
        "id": "gpuNElTu8tT4"
      }
    },
    {
      "source": [
        "\n",
        "import streamlit as st\n",
        "import numpy as np\n",
        "import cv2\n",
        "from PIL import Image\n",
        "from mtcnn import MTCNN\n",
        "import tensorflow as tf\n",
        "from tensorflow.keras.models import load_model\n",
        "import urllib.request\n",
        "import os\n",
        "\n",
        "# Настройки\n",
        "st.set_page_config(page_title=\"FaceAge\", layout=\"wide\")\n",
        "st.markdown(\"\"\"\n",
        "<style>\n",
        "    .reportview-container {background: #f0f2f6}\n",
        "    .big-font {font-size:24px !important; color: #2a3f5f}\n",
        "    .result-box {border-radius:10px; padding:20px; background:#ffffff; margin-top:20px}\n",
        "</style>\n",
        "\"\"\", unsafe_allow_html=True)\n",
        "\n",
        "# Заголовок\n",
        "st.image(\"https://raw.githubusercontent.com/AIM-Harvard/FaceAge/main/docs/logo.png\", width=200)\n",
        "st.title(\"🔍 FaceAge: Определение возраста по фото\")\n",
        "st.markdown(\"Загрузите фотографию лица, и алгоритм предскажет возраст\", class_=\"big-font\")\n",
        "\n",
        "# Загрузка модели\n",
        "@st.cache_resource\n",
        "def load_model_from_github():\n",
        "    model_url = \"https://github.com/AIM-Harvard/FaceAge/raw/main/models/faceage_model.h5\"  # Убедитесь в правильности URL\n",
        "    model_path = \"faceage_model.h5\"\n",
        "    if not os.path.exists(model_path):\n",
        "        urllib.request.urlretrieve(model_url, model_path)\n",
        "    return load_model(model_path)\n",
        "\n",
        "try:\n",
        "    model = load_model_from_github()\n",
        "except Exception as e:\n",
        "    st.error(f\"Ошибка загрузки модели: {str(e)}\")\n",
        "    st.stop()\n",
        "\n",
        "# Детектор лиц\n",
        "detector = MTCNN()\n",
        "\n",
        "def process_image(img):\n",
        "    # Конвертация в RGB\n",
        "    img_rgb = cv2.cvtColor(np.array(img), cv2.COLOR_BGR2RGB)\n",
        "\n",
        "    # Детекция лица\n",
        "    faces = detector.detect_faces(img_rgb)\n",
        "    if not faces:\n",
        "        return None\n",
        "\n",
        "    # Выбираем наибольшее лицо\n",
        "    main_face = max(faces, key=lambda x: x['confidence'])\n",
        "    x, y, w, h = main_face['box']\n",
        "\n",
        "    # Обрезка и ресайз\n",
        "    face_img = img_rgb[y:y+h, x:x+w]\n",
        "    face_img = cv2.resize(face_img, (128, 128))\n",
        "    face_img = face_img.astype('float32') / 255.0\n",
        "\n",
        "    return face_img, (x, y, w, h)\n",
        "\n",
        "# Интерфейс загрузки\n",
        "uploaded_file = st.file_uploader(\"\", type=[\"jpg\", \"jpeg\", \"png\"])\n",
        "\n",
        "col1, col2 = st.columns(2)\n",
        "\n",
        "if uploaded_file:\n",
        "    with col1:\n",
        "        st.header(\"Исходное изображение\")\n",
        "        image = Image.open(uploaded_file)\n",
        "        st.image(image, use_column_width=True)\n",
        "\n",
        "    with st.spinner('🔍 Анализируем лицо...'):\n",
        "        result = process_image(image)\n",
        "\n",
        "    if result:\n",
        "        face_img, bbox = result\n",
        "\n",
        "        with col2:\n",
        "            st.header(\"Результат\")\n",
        "            st.image(face_img, caption=\"Обнаруженное лицо\", clamp=True, channels='RGB')\n",
        "\n",
        "            # Предсказание\n",
        "            age = model.predict(np.expand_dims(face_img, axis=0))[0][0]\n",
        "\n",
        "            st.markdown(f\"\"\"\n",
        "            <div class=\"result-box\">\n",
        "                <h3>Результат анализа:</h3>\n",
        "                <p style='font-size:36px; color:#2a3f5f; font-weight:bold;'>\n",
        "                    {age:.1f} лет\n",
        "                </p>\n",
        "            </div>\n",
        "            \"\"\", unsafe_allow_html=True)\n",
        "    else:\n",
        "        st.error(\"Не удалось обнаружить лицо. Попробуйте другое фото.\")"
      ],
      "cell_type": "code",
      "metadata": {
        "id": "MlNU5LME8dBO"
      },
      "execution_count": null,
      "outputs": []
    },
    {
      "cell_type": "markdown",
      "source": [
        "# %% [markdown]\n",
        "# ## 🚀 Запуск веб-приложения"
      ],
      "metadata": {
        "id": "LKKUdalo8wFa"
      }
    },
    {
      "source": [
        "\n",
        "from pyngrok import ngrok\n",
        "\n",
        "# Запуск Streamlit в фоне\n",
        "!streamlit run faceage_app.py --server.port 8501 &>/dev/null&\n",
        "\n",
        "# Создание публичной ссылки\n",
        "public_url = ngrok.connect(addr='8501')\n",
        "print(f\"\\n\\n✨ Ваше приложение доступно по ссылке: {public_url}\\n\")"
      ],
      "cell_type": "code",
      "metadata": {
        "id": "MD1YGoG88d3r"
      },
      "execution_count": null,
      "outputs": []
    }
  ]
}